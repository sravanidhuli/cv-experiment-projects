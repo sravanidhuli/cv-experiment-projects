{
 "cells": [
  {
   "cell_type": "markdown",
   "id": "brave-catalyst",
   "metadata": {},
   "source": [
    "### Invisibility Cloak"
   ]
  },
  {
   "cell_type": "markdown",
   "id": "vietnamese-tuition",
   "metadata": {},
   "source": [
    "#### Import Libraries"
   ]
  },
  {
   "cell_type": "code",
   "execution_count": 15,
   "id": "regional-mailing",
   "metadata": {},
   "outputs": [],
   "source": [
    "import cv2\n",
    "import numpy as np\n",
    "import time"
   ]
  },
  {
   "cell_type": "markdown",
   "id": "appropriate-mobile",
   "metadata": {},
   "source": [
    "#### Use WebCam and Capture Background"
   ]
  },
  {
   "cell_type": "code",
   "execution_count": 16,
   "id": "accredited-recorder",
   "metadata": {},
   "outputs": [],
   "source": [
    "cap = cv2.VideoCapture(0)\n",
    "time.sleep(2)     \n",
    "background = 0\n",
    "\n",
    "for i in range(50):\n",
    "    ret, background = cap.read()"
   ]
  },
  {
   "cell_type": "markdown",
   "id": "quarterly-sweden",
   "metadata": {},
   "source": [
    "#### Capture Video Feed"
   ]
  },
  {
   "cell_type": "code",
   "execution_count": 17,
   "id": "injured-imperial",
   "metadata": {},
   "outputs": [],
   "source": [
    "while(cap.isOpened()): \n",
    "    ret, img = cap.read()\n",
    "    if not ret:\n",
    "        break\n",
    "    hsv = cv2.cvtColor(img,cv2.COLOR_BGR2HSV)\n",
    "    \n",
    "# Define Cloak and Make Masks    \n",
    "    lower_red = np.array([0,120,70])\n",
    "    upper_red = np.array([10,255,255]) # values is for red color Cloth\n",
    "    mask1 = cv2.inRange(hsv, lower_red,upper_red)\n",
    "\n",
    "    lower_red = np.array([170,120,70])\n",
    "    upper_red =  np.array([180,255,255])\n",
    "    mask2 = cv2.inRange(hsv,lower_red,upper_red)\n",
    "\n",
    "#Combining the masks so that It can be viewd as in one frame\n",
    "    mask1 = mask1 +mask2\n",
    "\n",
    "#After combining the mask we are storing the value in default mask.\n",
    "\n",
    "# Using Morphological Transformations\n",
    "\n",
    "    mask1 = cv2.morphologyEx(mask1,cv2.MORPH_OPEN,np.ones((3,3),np.uint8), iterations = 2)\n",
    "    mask1 = cv2.morphologyEx(mask1, cv2.MORPH_DILATE,np.ones((3,3),np.uint8), iterations = 1)\n",
    "\n",
    "    mask2 =cv2.bitwise_not(mask1)\n",
    "    \n",
    "    res1 = cv2.bitwise_and(background,background,mask=mask1)\n",
    "    \n",
    "    #The basic work of bitwise_and is to combine these background and store it in res1\n",
    "\n",
    "\n",
    "    res2 = cv2.bitwise_and(img,img,mask=mask2)\n",
    "    final_output = cv2.addWeighted(res1,1,res2,1,0)\n",
    "    cv2.imshow('Invisible Cloak',final_output)\n",
    "    k = cv2.waitKey(10)\n",
    "    if k==27:\n",
    "        break\n",
    "cap.release()\n",
    "cv2.destroyAllWindows()"
   ]
  }
 ],
 "metadata": {
  "kernelspec": {
   "display_name": "Python 3",
   "language": "python",
   "name": "python3"
  },
  "language_info": {
   "codemirror_mode": {
    "name": "ipython",
    "version": 3
   },
   "file_extension": ".py",
   "mimetype": "text/x-python",
   "name": "python",
   "nbconvert_exporter": "python",
   "pygments_lexer": "ipython3",
   "version": "3.8.5"
  }
 },
 "nbformat": 4,
 "nbformat_minor": 5
}
